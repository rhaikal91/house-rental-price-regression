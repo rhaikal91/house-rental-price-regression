{
  "nbformat": 4,
  "nbformat_minor": 0,
  "metadata": {
    "colab": {
      "name": "Capstone Project - Muhammad Rifqi Haikal.ipynb",
      "provenance": [],
      "collapsed_sections": []
    },
    "kernelspec": {
      "name": "python3",
      "display_name": "Python 3"
    },
    "language_info": {
      "name": "python"
    }
  },
  "cells": [
    {
      "cell_type": "markdown",
      "metadata": {
        "id": "BGrC2L48I92K"
      },
      "source": [
        "## CAPSTONE PROJECT - REGRESSION"
      ]
    },
    {
      "cell_type": "markdown",
      "metadata": {
        "id": "l6fJm4nrzznD"
      },
      "source": [
        "### IMPORT PACKAGES"
      ]
    },
    {
      "cell_type": "code",
      "metadata": {
        "id": "ymMxrLqzz6Vl",
        "colab": {
          "base_uri": "https://localhost:8080/"
        },
        "outputId": "93868985-b369-4ba3-9767-4284cdba43d9"
      },
      "source": [
        "import os\n",
        "import numpy as np\n",
        "import pandas as pd\n",
        "%matplotlib inline\n",
        "import matplotlib.pyplot as plt\n",
        "import seaborn as sns\n",
        "import statsmodels.api as sm\n",
        "from sklearn.preprocessing import LabelEncoder, StandardScaler, MinMaxScaler\n",
        "from sklearn.model_selection import train_test_split, cross_validate, cross_val_score, KFold, GridSearchCV\n",
        "from sklearn.metrics import accuracy_score, precision_score, recall_score, f1_score\n",
        "from sklearn.linear_model import LogisticRegression"
      ],
      "execution_count": 1,
      "outputs": [
        {
          "output_type": "stream",
          "name": "stderr",
          "text": [
            "/usr/local/lib/python3.7/dist-packages/statsmodels/tools/_testing.py:19: FutureWarning: pandas.util.testing is deprecated. Use the functions in the public API at pandas.testing instead.\n",
            "  import pandas.util.testing as tm\n"
          ]
        }
      ]
    },
    {
      "cell_type": "markdown",
      "metadata": {
        "id": "W0M12Y1Xz_K9"
      },
      "source": [
        "### LOAD DATASET"
      ]
    },
    {
      "cell_type": "code",
      "metadata": {
        "id": "kCYapI1v0M3I",
        "colab": {
          "base_uri": "https://localhost:8080/"
        },
        "outputId": "d420384e-c278-4ffb-b7be-5ce0520e42f4"
      },
      "source": [
        "from google.colab import drive\n",
        "drive.mount('/content/drive')"
      ],
      "execution_count": 2,
      "outputs": [
        {
          "output_type": "stream",
          "name": "stdout",
          "text": [
            "Mounted at /content/drive\n"
          ]
        }
      ]
    },
    {
      "cell_type": "code",
      "metadata": {
        "id": "CFcwNzgWuueN"
      },
      "source": [
        "path = '/content/drive/MyDrive/DatabaseColab/CapstoneJDS'\n",
        "df_train = pd.read_csv(os.path.join(path, \"Housing_Rental_Prices_train.csv\"), encoding='utf-8')\n",
        "df_test = pd.read_csv(os.path.join(path, \"Housing_Rental_Prices_test.csv\"), encoding='utf-8')"
      ],
      "execution_count": 3,
      "outputs": []
    },
    {
      "cell_type": "code",
      "metadata": {
        "colab": {
          "base_uri": "https://localhost:8080/",
          "height": 615
        },
        "id": "_ToxSnyFwGpZ",
        "outputId": "3bb8b944-6055-4255-d7b8-37a2e480864b"
      },
      "source": [
        "df_train.head()"
      ],
      "execution_count": 4,
      "outputs": [
        {
          "output_type": "execute_result",
          "data": {
            "text/html": [
              "<div>\n",
              "<style scoped>\n",
              "    .dataframe tbody tr th:only-of-type {\n",
              "        vertical-align: middle;\n",
              "    }\n",
              "\n",
              "    .dataframe tbody tr th {\n",
              "        vertical-align: top;\n",
              "    }\n",
              "\n",
              "    .dataframe thead th {\n",
              "        text-align: right;\n",
              "    }\n",
              "</style>\n",
              "<table border=\"1\" class=\"dataframe\">\n",
              "  <thead>\n",
              "    <tr style=\"text-align: right;\">\n",
              "      <th></th>\n",
              "      <th>bedroom</th>\n",
              "      <th>bathrooms</th>\n",
              "      <th>area</th>\n",
              "      <th>furnishing</th>\n",
              "      <th>avalable_for</th>\n",
              "      <th>address</th>\n",
              "      <th>floor_number</th>\n",
              "      <th>facing</th>\n",
              "      <th>floor_type</th>\n",
              "      <th>gate_community</th>\n",
              "      <th>corner_pro</th>\n",
              "      <th>parking</th>\n",
              "      <th>wheelchairadption</th>\n",
              "      <th>petfacility</th>\n",
              "      <th>aggDur</th>\n",
              "      <th>noticeDur</th>\n",
              "      <th>lightbill</th>\n",
              "      <th>powerbackup</th>\n",
              "      <th>propertyage</th>\n",
              "      <th>no_room</th>\n",
              "      <th>pooja_room</th>\n",
              "      <th>study_room</th>\n",
              "      <th>others</th>\n",
              "      <th>servant_room</th>\n",
              "      <th>store_room</th>\n",
              "      <th>maintenance_amt</th>\n",
              "      <th>brok_amt</th>\n",
              "      <th>deposit_amt</th>\n",
              "      <th>mnt_amt</th>\n",
              "      <th>rent</th>\n",
              "    </tr>\n",
              "  </thead>\n",
              "  <tbody>\n",
              "    <tr>\n",
              "      <th>0</th>\n",
              "      <td>2</td>\n",
              "      <td>2</td>\n",
              "      <td>1050.0</td>\n",
              "      <td>Unfurnished</td>\n",
              "      <td>All</td>\n",
              "      <td>Sadguru hights, Pingale Wasti, , Pune, Maharas...</td>\n",
              "      <td>5</td>\n",
              "      <td>West</td>\n",
              "      <td>Marble</td>\n",
              "      <td>Yes</td>\n",
              "      <td>No</td>\n",
              "      <td>0</td>\n",
              "      <td>None</td>\n",
              "      <td>None</td>\n",
              "      <td>11</td>\n",
              "      <td>2</td>\n",
              "      <td>0</td>\n",
              "      <td>2</td>\n",
              "      <td>5 to 10 Year Old</td>\n",
              "      <td>1</td>\n",
              "      <td>0</td>\n",
              "      <td>0</td>\n",
              "      <td>0</td>\n",
              "      <td>0</td>\n",
              "      <td>0</td>\n",
              "      <td>0</td>\n",
              "      <td>0</td>\n",
              "      <td>3</td>\n",
              "      <td>0.0</td>\n",
              "      <td>20000.0</td>\n",
              "    </tr>\n",
              "    <tr>\n",
              "      <th>1</th>\n",
              "      <td>2</td>\n",
              "      <td>2</td>\n",
              "      <td>760.0</td>\n",
              "      <td>Unfurnished</td>\n",
              "      <td>All</td>\n",
              "      <td>Manav Silver Springs, Wagholi, , Pune, Maharas...</td>\n",
              "      <td>5</td>\n",
              "      <td>East</td>\n",
              "      <td>Vitrified</td>\n",
              "      <td>Yes</td>\n",
              "      <td>Yes</td>\n",
              "      <td>2</td>\n",
              "      <td>None</td>\n",
              "      <td>None</td>\n",
              "      <td>11</td>\n",
              "      <td>1</td>\n",
              "      <td>0</td>\n",
              "      <td>2</td>\n",
              "      <td>1 to 5 Year Old</td>\n",
              "      <td>1</td>\n",
              "      <td>0</td>\n",
              "      <td>0</td>\n",
              "      <td>0</td>\n",
              "      <td>0</td>\n",
              "      <td>0</td>\n",
              "      <td>0</td>\n",
              "      <td>0</td>\n",
              "      <td>40000</td>\n",
              "      <td>0.0</td>\n",
              "      <td>14000.0</td>\n",
              "    </tr>\n",
              "    <tr>\n",
              "      <th>2</th>\n",
              "      <td>3</td>\n",
              "      <td>3</td>\n",
              "      <td>0.0</td>\n",
              "      <td>Semifurnished</td>\n",
              "      <td>All</td>\n",
              "      <td>Saarrthi Souvenir, Mahalunge, , Pune, Maharashtra</td>\n",
              "      <td>1</td>\n",
              "      <td>South-West</td>\n",
              "      <td>Vitrified</td>\n",
              "      <td>Yes</td>\n",
              "      <td>No</td>\n",
              "      <td>1</td>\n",
              "      <td>None</td>\n",
              "      <td>None</td>\n",
              "      <td>11</td>\n",
              "      <td>1</td>\n",
              "      <td>0</td>\n",
              "      <td>2</td>\n",
              "      <td>1 to 5 Year Old</td>\n",
              "      <td>0</td>\n",
              "      <td>0</td>\n",
              "      <td>0</td>\n",
              "      <td>1</td>\n",
              "      <td>0</td>\n",
              "      <td>0</td>\n",
              "      <td>Maintenance 1/ (/ month</td>\n",
              "      <td>23000</td>\n",
              "      <td>60000</td>\n",
              "      <td>1.0</td>\n",
              "      <td>22999.0</td>\n",
              "    </tr>\n",
              "    <tr>\n",
              "      <th>3</th>\n",
              "      <td>1</td>\n",
              "      <td>1</td>\n",
              "      <td>628.0</td>\n",
              "      <td>Furnished</td>\n",
              "      <td>Family Only</td>\n",
              "      <td>Dhan Residency, Wanowrie, , Pune, Maharashtra</td>\n",
              "      <td>3</td>\n",
              "      <td>East</td>\n",
              "      <td>Mosaic</td>\n",
              "      <td>Yes</td>\n",
              "      <td>No</td>\n",
              "      <td>1</td>\n",
              "      <td>None</td>\n",
              "      <td>None</td>\n",
              "      <td>11</td>\n",
              "      <td>1</td>\n",
              "      <td>0</td>\n",
              "      <td>0</td>\n",
              "      <td>10+ Year Old</td>\n",
              "      <td>1</td>\n",
              "      <td>0</td>\n",
              "      <td>0</td>\n",
              "      <td>0</td>\n",
              "      <td>0</td>\n",
              "      <td>0</td>\n",
              "      <td>0</td>\n",
              "      <td>0</td>\n",
              "      <td>40000</td>\n",
              "      <td>0.0</td>\n",
              "      <td>13000.0</td>\n",
              "    </tr>\n",
              "    <tr>\n",
              "      <th>4</th>\n",
              "      <td>2</td>\n",
              "      <td>2</td>\n",
              "      <td>668.0</td>\n",
              "      <td>Semifurnished</td>\n",
              "      <td>Family , Bachelors (Men Only)</td>\n",
              "      <td>Saptsiddhi Savali Homes, Uruli Devachi, , Pune...</td>\n",
              "      <td>6</td>\n",
              "      <td>South</td>\n",
              "      <td>Polished concrete</td>\n",
              "      <td>Yes</td>\n",
              "      <td>Yes</td>\n",
              "      <td>1</td>\n",
              "      <td>None</td>\n",
              "      <td>None</td>\n",
              "      <td>12</td>\n",
              "      <td>1</td>\n",
              "      <td>1</td>\n",
              "      <td>1</td>\n",
              "      <td>1 to 5 Year Old</td>\n",
              "      <td>1</td>\n",
              "      <td>0</td>\n",
              "      <td>0</td>\n",
              "      <td>0</td>\n",
              "      <td>0</td>\n",
              "      <td>0</td>\n",
              "      <td>0</td>\n",
              "      <td>0</td>\n",
              "      <td>20</td>\n",
              "      <td>0.0</td>\n",
              "      <td>7500.0</td>\n",
              "    </tr>\n",
              "  </tbody>\n",
              "</table>\n",
              "</div>"
            ],
            "text/plain": [
              "   bedroom  bathrooms    area  ... deposit_amt mnt_amt     rent\n",
              "0        2          2  1050.0  ...           3     0.0  20000.0\n",
              "1        2          2   760.0  ...       40000     0.0  14000.0\n",
              "2        3          3     0.0  ...       60000     1.0  22999.0\n",
              "3        1          1   628.0  ...       40000     0.0  13000.0\n",
              "4        2          2   668.0  ...          20     0.0   7500.0\n",
              "\n",
              "[5 rows x 30 columns]"
            ]
          },
          "metadata": {},
          "execution_count": 4
        }
      ]
    },
    {
      "cell_type": "markdown",
      "metadata": {
        "id": "3x-LOB34Ix2n"
      },
      "source": [
        "### PROBLEM STATEMENT"
      ]
    },
    {
      "cell_type": "markdown",
      "metadata": {
        "id": "cD8LTm-VwS4S"
      },
      "source": [
        "<b>1. Berapa harga yang tepat untuk harga sewa rumah berdasarkan fasilitas-fasilitas yang tersedia</b>\n",
        "\n",
        "Dari data didapatkan :\n",
        "<br>X = bedroom, bathroom, furnishing, wheelchairadption, petfacility\n",
        "<br>Y = rent"
      ]
    },
    {
      "cell_type": "code",
      "metadata": {
        "id": "0fHaO2OeJENe",
        "colab": {
          "base_uri": "https://localhost:8080/"
        },
        "outputId": "d15686da-dd3a-4ae3-99f7-bc9ba0855b97"
      },
      "source": [
        "df_train.info()"
      ],
      "execution_count": 5,
      "outputs": [
        {
          "output_type": "stream",
          "name": "stdout",
          "text": [
            "<class 'pandas.core.frame.DataFrame'>\n",
            "RangeIndex: 10884 entries, 0 to 10883\n",
            "Data columns (total 30 columns):\n",
            " #   Column             Non-Null Count  Dtype  \n",
            "---  ------             --------------  -----  \n",
            " 0   bedroom            10884 non-null  int64  \n",
            " 1   bathrooms          10884 non-null  int64  \n",
            " 2   area               10884 non-null  float64\n",
            " 3   furnishing         10884 non-null  object \n",
            " 4   avalable_for       10884 non-null  object \n",
            " 5   address            10884 non-null  object \n",
            " 6   floor_number       10884 non-null  int64  \n",
            " 7   facing             10884 non-null  object \n",
            " 8   floor_type         10884 non-null  object \n",
            " 9   gate_community     10884 non-null  object \n",
            " 10  corner_pro         10884 non-null  object \n",
            " 11  parking            10884 non-null  int64  \n",
            " 12  wheelchairadption  10884 non-null  object \n",
            " 13  petfacility        10884 non-null  object \n",
            " 14  aggDur             10884 non-null  int64  \n",
            " 15  noticeDur          10884 non-null  int64  \n",
            " 16  lightbill          10884 non-null  int64  \n",
            " 17  powerbackup        10884 non-null  int64  \n",
            " 18  propertyage        10884 non-null  object \n",
            " 19  no_room            10884 non-null  int64  \n",
            " 20  pooja_room         10884 non-null  int64  \n",
            " 21  study_room         10884 non-null  int64  \n",
            " 22  others             10884 non-null  int64  \n",
            " 23  servant_room       10884 non-null  int64  \n",
            " 24  store_room         10884 non-null  int64  \n",
            " 25  maintenance_amt    10884 non-null  object \n",
            " 26  brok_amt           10884 non-null  int64  \n",
            " 27  deposit_amt        10884 non-null  int64  \n",
            " 28  mnt_amt            10884 non-null  float64\n",
            " 29  rent               10884 non-null  float64\n",
            "dtypes: float64(3), int64(16), object(11)\n",
            "memory usage: 2.5+ MB\n"
          ]
        }
      ]
    },
    {
      "cell_type": "markdown",
      "metadata": {
        "id": "iMmpxGreKBs0"
      },
      "source": [
        "Tidak ditemukan missing value maupun NA"
      ]
    },
    {
      "cell_type": "markdown",
      "metadata": {
        "id": "3GbDILgN0fNT"
      },
      "source": [
        "### EDA"
      ]
    },
    {
      "cell_type": "code",
      "metadata": {
        "colab": {
          "base_uri": "https://localhost:8080/",
          "height": 204
        },
        "id": "eJKF_zByzCP0",
        "outputId": "4df556d5-428a-42d7-dec7-37683da83fb2"
      },
      "source": [
        "df_train_true = df_train[[\"furnishing\", \"rent\"]]\n",
        "df_train_true.head()"
      ],
      "execution_count": 57,
      "outputs": [
        {
          "output_type": "execute_result",
          "data": {
            "text/html": [
              "<div>\n",
              "<style scoped>\n",
              "    .dataframe tbody tr th:only-of-type {\n",
              "        vertical-align: middle;\n",
              "    }\n",
              "\n",
              "    .dataframe tbody tr th {\n",
              "        vertical-align: top;\n",
              "    }\n",
              "\n",
              "    .dataframe thead th {\n",
              "        text-align: right;\n",
              "    }\n",
              "</style>\n",
              "<table border=\"1\" class=\"dataframe\">\n",
              "  <thead>\n",
              "    <tr style=\"text-align: right;\">\n",
              "      <th></th>\n",
              "      <th>furnishing</th>\n",
              "      <th>rent</th>\n",
              "    </tr>\n",
              "  </thead>\n",
              "  <tbody>\n",
              "    <tr>\n",
              "      <th>0</th>\n",
              "      <td>Unfurnished</td>\n",
              "      <td>20000.0</td>\n",
              "    </tr>\n",
              "    <tr>\n",
              "      <th>1</th>\n",
              "      <td>Unfurnished</td>\n",
              "      <td>14000.0</td>\n",
              "    </tr>\n",
              "    <tr>\n",
              "      <th>2</th>\n",
              "      <td>Semifurnished</td>\n",
              "      <td>22999.0</td>\n",
              "    </tr>\n",
              "    <tr>\n",
              "      <th>3</th>\n",
              "      <td>Furnished</td>\n",
              "      <td>13000.0</td>\n",
              "    </tr>\n",
              "    <tr>\n",
              "      <th>4</th>\n",
              "      <td>Semifurnished</td>\n",
              "      <td>7500.0</td>\n",
              "    </tr>\n",
              "  </tbody>\n",
              "</table>\n",
              "</div>"
            ],
            "text/plain": [
              "      furnishing     rent\n",
              "0    Unfurnished  20000.0\n",
              "1    Unfurnished  14000.0\n",
              "2  Semifurnished  22999.0\n",
              "3      Furnished  13000.0\n",
              "4  Semifurnished   7500.0"
            ]
          },
          "metadata": {},
          "execution_count": 57
        }
      ]
    },
    {
      "cell_type": "code",
      "metadata": {
        "colab": {
          "base_uri": "https://localhost:8080/",
          "height": 297
        },
        "id": "pHLJwt5xxaZv",
        "outputId": "6c9eaffb-b40a-494f-8c09-0f097bc9df42"
      },
      "source": [
        "df_train_true.describe()"
      ],
      "execution_count": 7,
      "outputs": [
        {
          "output_type": "execute_result",
          "data": {
            "text/html": [
              "<div>\n",
              "<style scoped>\n",
              "    .dataframe tbody tr th:only-of-type {\n",
              "        vertical-align: middle;\n",
              "    }\n",
              "\n",
              "    .dataframe tbody tr th {\n",
              "        vertical-align: top;\n",
              "    }\n",
              "\n",
              "    .dataframe thead th {\n",
              "        text-align: right;\n",
              "    }\n",
              "</style>\n",
              "<table border=\"1\" class=\"dataframe\">\n",
              "  <thead>\n",
              "    <tr style=\"text-align: right;\">\n",
              "      <th></th>\n",
              "      <th>rent</th>\n",
              "    </tr>\n",
              "  </thead>\n",
              "  <tbody>\n",
              "    <tr>\n",
              "      <th>count</th>\n",
              "      <td>1.088400e+04</td>\n",
              "    </tr>\n",
              "    <tr>\n",
              "      <th>mean</th>\n",
              "      <td>2.855947e+04</td>\n",
              "    </tr>\n",
              "    <tr>\n",
              "      <th>std</th>\n",
              "      <td>1.183249e+06</td>\n",
              "    </tr>\n",
              "    <tr>\n",
              "      <th>min</th>\n",
              "      <td>1.600000e+03</td>\n",
              "    </tr>\n",
              "    <tr>\n",
              "      <th>25%</th>\n",
              "      <td>1.050000e+04</td>\n",
              "    </tr>\n",
              "    <tr>\n",
              "      <th>50%</th>\n",
              "      <td>1.500000e+04</td>\n",
              "    </tr>\n",
              "    <tr>\n",
              "      <th>75%</th>\n",
              "      <td>2.100000e+04</td>\n",
              "    </tr>\n",
              "    <tr>\n",
              "      <th>max</th>\n",
              "      <td>1.234568e+08</td>\n",
              "    </tr>\n",
              "  </tbody>\n",
              "</table>\n",
              "</div>"
            ],
            "text/plain": [
              "               rent\n",
              "count  1.088400e+04\n",
              "mean   2.855947e+04\n",
              "std    1.183249e+06\n",
              "min    1.600000e+03\n",
              "25%    1.050000e+04\n",
              "50%    1.500000e+04\n",
              "75%    2.100000e+04\n",
              "max    1.234568e+08"
            ]
          },
          "metadata": {},
          "execution_count": 7
        }
      ]
    },
    {
      "cell_type": "markdown",
      "metadata": {
        "id": "LRsJUgxlLM-E"
      },
      "source": [
        "Rumah dengan 2, 4, dan 5 kamar memiliki harga sewa yang lebih tinggi dari rumah dengan jumlah kamar lain"
      ]
    },
    {
      "cell_type": "code",
      "metadata": {
        "colab": {
          "base_uri": "https://localhost:8080/",
          "height": 296
        },
        "id": "ftDlNmYsLU43",
        "outputId": "ad61ef08-f918-429e-9f58-10f3cec6abbd"
      },
      "source": [
        "sns.barplot(x=df_train_true.furnishing, y=df_train_true.rent)"
      ],
      "execution_count": 59,
      "outputs": [
        {
          "output_type": "execute_result",
          "data": {
            "text/plain": [
              "<matplotlib.axes._subplots.AxesSubplot at 0x7f307acaca90>"
            ]
          },
          "metadata": {},
          "execution_count": 59
        },
        {
          "output_type": "display_data",
          "data": {
            "image/png": "[encoded data removed]",
            "text/plain": [
              "<Figure size 432x288 with 1 Axes>"
            ]
          },
          "metadata": {
            "needs_background": "light"
          }
        }
      ]
    },
    {
      "cell_type": "markdown",
      "metadata": {
        "id": "npKuR1qjLZzO"
      },
      "source": [
        "Rumah yang sudah memiliki furniture memiliki harga sewa yang jauh lebih tinggi, harga sewa rumah yang semifurnished kurang lebih sama dengan rumah yang unfurnished"
      ]
    },
    {
      "cell_type": "markdown",
      "metadata": {
        "id": "6u4IAil10RlZ"
      },
      "source": [
        "### DATA PRE-PROCESSING"
      ]
    },
    {
      "cell_type": "code",
      "metadata": {
        "id": "woyxoRDU67tj",
        "colab": {
          "base_uri": "https://localhost:8080/",
          "height": 204
        },
        "outputId": "0d914ee8-9ac1-4d79-8ee5-726eb92e8b29"
      },
      "source": [
        "kategori = [\"furnishing\"]\n",
        "df_cat = df_train_true[kategori]\n",
        "df_cat.head()"
      ],
      "execution_count": 61,
      "outputs": [
        {
          "output_type": "execute_result",
          "data": {
            "text/html": [
              "<div>\n",
              "<style scoped>\n",
              "    .dataframe tbody tr th:only-of-type {\n",
              "        vertical-align: middle;\n",
              "    }\n",
              "\n",
              "    .dataframe tbody tr th {\n",
              "        vertical-align: top;\n",
              "    }\n",
              "\n",
              "    .dataframe thead th {\n",
              "        text-align: right;\n",
              "    }\n",
              "</style>\n",
              "<table border=\"1\" class=\"dataframe\">\n",
              "  <thead>\n",
              "    <tr style=\"text-align: right;\">\n",
              "      <th></th>\n",
              "      <th>furnishing</th>\n",
              "    </tr>\n",
              "  </thead>\n",
              "  <tbody>\n",
              "    <tr>\n",
              "      <th>0</th>\n",
              "      <td>Unfurnished</td>\n",
              "    </tr>\n",
              "    <tr>\n",
              "      <th>1</th>\n",
              "      <td>Unfurnished</td>\n",
              "    </tr>\n",
              "    <tr>\n",
              "      <th>2</th>\n",
              "      <td>Semifurnished</td>\n",
              "    </tr>\n",
              "    <tr>\n",
              "      <th>3</th>\n",
              "      <td>Furnished</td>\n",
              "    </tr>\n",
              "    <tr>\n",
              "      <th>4</th>\n",
              "      <td>Semifurnished</td>\n",
              "    </tr>\n",
              "  </tbody>\n",
              "</table>\n",
              "</div>"
            ],
            "text/plain": [
              "      furnishing\n",
              "0    Unfurnished\n",
              "1    Unfurnished\n",
              "2  Semifurnished\n",
              "3      Furnished\n",
              "4  Semifurnished"
            ]
          },
          "metadata": {},
          "execution_count": 61
        }
      ]
    },
    {
      "cell_type": "code",
      "metadata": {
        "colab": {
          "base_uri": "https://localhost:8080/"
        },
        "id": "pS3jcSsUMKDV",
        "outputId": "f243b9e2-3a1b-40ff-b207-a2e94ee7f3bc"
      },
      "source": [
        "df_train_true['furnishing'] = df_train_true['furnishing'].replace(['Unfurnishe'],'Unfurnished')\n",
        "# Mengganti semua value Unfurnishe menjadi Unfurnished"
      ],
      "execution_count": 58,
      "outputs": [
        {
          "output_type": "stream",
          "name": "stderr",
          "text": [
            "/usr/local/lib/python3.7/dist-packages/ipykernel_launcher.py:1: SettingWithCopyWarning: \n",
            "A value is trying to be set on a copy of a slice from a DataFrame.\n",
            "Try using .loc[row_indexer,col_indexer] = value instead\n",
            "\n",
            "See the caveats in the documentation: https://pandas.pydata.org/pandas-docs/stable/user_guide/indexing.html#returning-a-view-versus-a-copy\n",
            "  \"\"\"Entry point for launching an IPython kernel.\n"
          ]
        }
      ]
    },
    {
      "cell_type": "code",
      "metadata": {
        "colab": {
          "base_uri": "https://localhost:8080/",
          "height": 204
        },
        "id": "oFpPTeErW7qc",
        "outputId": "5d3dd591-f08a-4455-c718-41843b455209"
      },
      "source": [
        "status = pd.get_dummies(df_train_true['furnishing'])\n",
        "status.head()"
      ],
      "execution_count": 62,
      "outputs": [
        {
          "output_type": "execute_result",
          "data": {
            "text/html": [
              "<div>\n",
              "<style scoped>\n",
              "    .dataframe tbody tr th:only-of-type {\n",
              "        vertical-align: middle;\n",
              "    }\n",
              "\n",
              "    .dataframe tbody tr th {\n",
              "        vertical-align: top;\n",
              "    }\n",
              "\n",
              "    .dataframe thead th {\n",
              "        text-align: right;\n",
              "    }\n",
              "</style>\n",
              "<table border=\"1\" class=\"dataframe\">\n",
              "  <thead>\n",
              "    <tr style=\"text-align: right;\">\n",
              "      <th></th>\n",
              "      <th>Furnished</th>\n",
              "      <th>Semifurnished</th>\n",
              "      <th>Unfurnished</th>\n",
              "    </tr>\n",
              "  </thead>\n",
              "  <tbody>\n",
              "    <tr>\n",
              "      <th>0</th>\n",
              "      <td>0</td>\n",
              "      <td>0</td>\n",
              "      <td>1</td>\n",
              "    </tr>\n",
              "    <tr>\n",
              "      <th>1</th>\n",
              "      <td>0</td>\n",
              "      <td>0</td>\n",
              "      <td>1</td>\n",
              "    </tr>\n",
              "    <tr>\n",
              "      <th>2</th>\n",
              "      <td>0</td>\n",
              "      <td>1</td>\n",
              "      <td>0</td>\n",
              "    </tr>\n",
              "    <tr>\n",
              "      <th>3</th>\n",
              "      <td>1</td>\n",
              "      <td>0</td>\n",
              "      <td>0</td>\n",
              "    </tr>\n",
              "    <tr>\n",
              "      <th>4</th>\n",
              "      <td>0</td>\n",
              "      <td>1</td>\n",
              "      <td>0</td>\n",
              "    </tr>\n",
              "  </tbody>\n",
              "</table>\n",
              "</div>"
            ],
            "text/plain": [
              "   Furnished  Semifurnished  Unfurnished\n",
              "0          0              0            1\n",
              "1          0              0            1\n",
              "2          0              1            0\n",
              "3          1              0            0\n",
              "4          0              1            0"
            ]
          },
          "metadata": {},
          "execution_count": 62
        }
      ]
    },
    {
      "cell_type": "markdown",
      "metadata": {
        "id": "sAaFPUkRQUnB"
      },
      "source": [
        "Data kategorik akan diubah menjadi numerik untuk analisis Regresi"
      ]
    },
    {
      "cell_type": "code",
      "metadata": {
        "id": "XyyCAyz-XHLJ"
      },
      "source": [
        "status = pd.get_dummies(df_train_true['furnishing'])\n",
        "df_train_true = pd.concat([df_train_true, status], axis = 1)"
      ],
      "execution_count": 63,
      "outputs": []
    },
    {
      "cell_type": "code",
      "metadata": {
        "id": "i-bfX0RUX_5n"
      },
      "source": [
        "df_train_true.drop(['furnishing'], axis = 1, inplace = True)"
      ],
      "execution_count": 64,
      "outputs": []
    },
    {
      "cell_type": "code",
      "metadata": {
        "id": "eaSEh493F2R1"
      },
      "source": [
        "df_train_true.drop(['Furnished'], axis = 1, inplace = True)"
      ],
      "execution_count": 65,
      "outputs": []
    },
    {
      "cell_type": "code",
      "metadata": {
        "id": "m90pLg22Qf6t"
      },
      "source": [
        "encoded_data = LabelEncoder()\n",
        "\n",
        "for feature in kategori:\n",
        "        if feature in df_train_true.columns.values:\n",
        "            df_train_true[feature] = encoded_data.fit_transform(df_train_true[feature])"
      ],
      "execution_count": 15,
      "outputs": []
    },
    {
      "cell_type": "code",
      "metadata": {
        "colab": {
          "base_uri": "https://localhost:8080/",
          "height": 204
        },
        "id": "62tVmZigXajp",
        "outputId": "b035931d-2f49-44b2-9377-cfcb495bf6e6"
      },
      "source": [
        "df_train_true.head()"
      ],
      "execution_count": 66,
      "outputs": [
        {
          "output_type": "execute_result",
          "data": {
            "text/html": [
              "<div>\n",
              "<style scoped>\n",
              "    .dataframe tbody tr th:only-of-type {\n",
              "        vertical-align: middle;\n",
              "    }\n",
              "\n",
              "    .dataframe tbody tr th {\n",
              "        vertical-align: top;\n",
              "    }\n",
              "\n",
              "    .dataframe thead th {\n",
              "        text-align: right;\n",
              "    }\n",
              "</style>\n",
              "<table border=\"1\" class=\"dataframe\">\n",
              "  <thead>\n",
              "    <tr style=\"text-align: right;\">\n",
              "      <th></th>\n",
              "      <th>rent</th>\n",
              "      <th>Semifurnished</th>\n",
              "      <th>Unfurnished</th>\n",
              "    </tr>\n",
              "  </thead>\n",
              "  <tbody>\n",
              "    <tr>\n",
              "      <th>0</th>\n",
              "      <td>20000.0</td>\n",
              "      <td>0</td>\n",
              "      <td>1</td>\n",
              "    </tr>\n",
              "    <tr>\n",
              "      <th>1</th>\n",
              "      <td>14000.0</td>\n",
              "      <td>0</td>\n",
              "      <td>1</td>\n",
              "    </tr>\n",
              "    <tr>\n",
              "      <th>2</th>\n",
              "      <td>22999.0</td>\n",
              "      <td>1</td>\n",
              "      <td>0</td>\n",
              "    </tr>\n",
              "    <tr>\n",
              "      <th>3</th>\n",
              "      <td>13000.0</td>\n",
              "      <td>0</td>\n",
              "      <td>0</td>\n",
              "    </tr>\n",
              "    <tr>\n",
              "      <th>4</th>\n",
              "      <td>7500.0</td>\n",
              "      <td>1</td>\n",
              "      <td>0</td>\n",
              "    </tr>\n",
              "  </tbody>\n",
              "</table>\n",
              "</div>"
            ],
            "text/plain": [
              "      rent  Semifurnished  Unfurnished\n",
              "0  20000.0              0            1\n",
              "1  14000.0              0            1\n",
              "2  22999.0              1            0\n",
              "3  13000.0              0            0\n",
              "4   7500.0              1            0"
            ]
          },
          "metadata": {},
          "execution_count": 66
        }
      ]
    },
    {
      "cell_type": "markdown",
      "metadata": {
        "id": "G3c-UT3CIc_q"
      },
      "source": [
        "### FEATURE ENGINEERING"
      ]
    },
    {
      "cell_type": "code",
      "metadata": {
        "colab": {
          "base_uri": "https://localhost:8080/",
          "height": 595
        },
        "id": "i4DdwJ_dQy1E",
        "outputId": "8a96f582-e656-46f9-f2e8-53a2d103d692"
      },
      "source": [
        "# Cek korelasi\n",
        "\n",
        "sns.heatmap(df_train_true.corr(),linewidths=.5,annot=True,cmap='RdYlGn')\n",
        "fig=plt.gcf()\n",
        "fig.set_size_inches(10,10)\n",
        "plt.show()"
      ],
      "execution_count": 67,
      "outputs": [
        {
          "output_type": "display_data",
          "data": {
            "image/png": "[encoded data removed]",
            "text/plain": [
              "<Figure size 720x720 with 2 Axes>"
            ]
          },
          "metadata": {
            "needs_background": "light"
          }
        }
      ]
    },
    {
      "cell_type": "markdown",
      "metadata": {
        "id": "sHt5L3eUQ5ye"
      },
      "source": [
        "Nilai tertinggi berada diatas 0.3, data diasumsikan berkorelasi kuat"
      ]
    },
    {
      "cell_type": "code",
      "metadata": {
        "id": "ulLAKOYi_mo-",
        "colab": {
          "base_uri": "https://localhost:8080/",
          "height": 204
        },
        "outputId": "6acd9c66-57f8-4c89-80a1-59e0a449f0e0"
      },
      "source": [
        "df_train_true.head()"
      ],
      "execution_count": 18,
      "outputs": [
        {
          "output_type": "execute_result",
          "data": {
            "text/html": [
              "<div>\n",
              "<style scoped>\n",
              "    .dataframe tbody tr th:only-of-type {\n",
              "        vertical-align: middle;\n",
              "    }\n",
              "\n",
              "    .dataframe tbody tr th {\n",
              "        vertical-align: top;\n",
              "    }\n",
              "\n",
              "    .dataframe thead th {\n",
              "        text-align: right;\n",
              "    }\n",
              "</style>\n",
              "<table border=\"1\" class=\"dataframe\">\n",
              "  <thead>\n",
              "    <tr style=\"text-align: right;\">\n",
              "      <th></th>\n",
              "      <th>rent</th>\n",
              "      <th>Semifurnished</th>\n",
              "      <th>Unfurnished</th>\n",
              "    </tr>\n",
              "  </thead>\n",
              "  <tbody>\n",
              "    <tr>\n",
              "      <th>0</th>\n",
              "      <td>20000.0</td>\n",
              "      <td>0</td>\n",
              "      <td>1</td>\n",
              "    </tr>\n",
              "    <tr>\n",
              "      <th>1</th>\n",
              "      <td>14000.0</td>\n",
              "      <td>0</td>\n",
              "      <td>1</td>\n",
              "    </tr>\n",
              "    <tr>\n",
              "      <th>2</th>\n",
              "      <td>22999.0</td>\n",
              "      <td>1</td>\n",
              "      <td>0</td>\n",
              "    </tr>\n",
              "    <tr>\n",
              "      <th>3</th>\n",
              "      <td>13000.0</td>\n",
              "      <td>0</td>\n",
              "      <td>0</td>\n",
              "    </tr>\n",
              "    <tr>\n",
              "      <th>4</th>\n",
              "      <td>7500.0</td>\n",
              "      <td>1</td>\n",
              "      <td>0</td>\n",
              "    </tr>\n",
              "  </tbody>\n",
              "</table>\n",
              "</div>"
            ],
            "text/plain": [
              "      rent  Semifurnished  Unfurnished\n",
              "0  20000.0              0            1\n",
              "1  14000.0              0            1\n",
              "2  22999.0              1            0\n",
              "3  13000.0              0            0\n",
              "4   7500.0              1            0"
            ]
          },
          "metadata": {},
          "execution_count": 18
        }
      ]
    },
    {
      "cell_type": "markdown",
      "metadata": {
        "id": "UwMJ3Dgr_oob"
      },
      "source": [
        "### MODELING"
      ]
    },
    {
      "cell_type": "code",
      "metadata": {
        "id": "PZEKxTJUC3iT",
        "colab": {
          "base_uri": "https://localhost:8080/"
        },
        "outputId": "4227843e-e16f-497f-8064-9a75d770f295"
      },
      "source": [
        "#Split Test Train\n",
        "\n",
        "X = df_train_true.drop('rent', axis=1)\n",
        "y = df_train_true['rent']\n",
        "\n",
        "X_train, X_test, y_train, y_test = train_test_split(X, y, test_size=0.3, random_state=42)\n",
        "\n",
        "print(\"X Train : \", len(X_train))\n",
        "print(\"y Train : \", len(y_train))\n",
        "print(\"X Test : \", len(X_test))\n",
        "print(\"t Test : \", len(y_test))"
      ],
      "execution_count": 19,
      "outputs": [
        {
          "output_type": "stream",
          "name": "stdout",
          "text": [
            "X Train :  7618\n",
            "y Train :  7618\n",
            "X Test :  3266\n",
            "t Test :  3266\n"
          ]
        }
      ]
    },
    {
      "cell_type": "code",
      "metadata": {
        "id": "HZyOdRl8T8qK"
      },
      "source": [
        "from sklearn.preprocessing import StandardScaler\n",
        "from sklearn.pipeline import Pipeline\n",
        "\n",
        "pipeline = Pipeline([\n",
        "    ('std_scalar', StandardScaler())\n",
        "])\n",
        "\n",
        "X_train = pipeline.fit_transform(X_train)\n",
        "X_test = pipeline.transform(X_test)"
      ],
      "execution_count": 20,
      "outputs": []
    },
    {
      "cell_type": "code",
      "metadata": {
        "colab": {
          "base_uri": "https://localhost:8080/"
        },
        "id": "7Y5U6v6EUAHl",
        "outputId": "50c5d69e-da8c-41be-e0d0-e8339567aead"
      },
      "source": [
        "from sklearn.linear_model import LinearRegression\n",
        "\n",
        "lin_reg = LinearRegression(normalize=True)\n",
        "lin_reg.fit(X_train,y_train)"
      ],
      "execution_count": 21,
      "outputs": [
        {
          "output_type": "execute_result",
          "data": {
            "text/plain": [
              "LinearRegression(copy_X=True, fit_intercept=True, n_jobs=None, normalize=True)"
            ]
          },
          "metadata": {},
          "execution_count": 21
        }
      ]
    },
    {
      "cell_type": "code",
      "metadata": {
        "id": "3ydIFf8BJTkN",
        "colab": {
          "base_uri": "https://localhost:8080/"
        },
        "outputId": "3b85306a-ac32-4974-83c9-ddd57bc07305"
      },
      "source": [
        "print(lin_reg.intercept_)"
      ],
      "execution_count": 22,
      "outputs": [
        {
          "output_type": "stream",
          "name": "stdout",
          "text": [
            "33423.76585866763\n"
          ]
        }
      ]
    },
    {
      "cell_type": "code",
      "metadata": {
        "colab": {
          "base_uri": "https://localhost:8080/",
          "height": 111
        },
        "id": "JiDptYgpUEFW",
        "outputId": "05518fc4-6127-4389-f6de-24c758770504"
      },
      "source": [
        "coeff_df = pd.DataFrame(lin_reg.coef_, X.columns, columns=['Coefficient'])\n",
        "coeff_df"
      ],
      "execution_count": 23,
      "outputs": [
        {
          "output_type": "execute_result",
          "data": {
            "text/html": [
              "<div>\n",
              "<style scoped>\n",
              "    .dataframe tbody tr th:only-of-type {\n",
              "        vertical-align: middle;\n",
              "    }\n",
              "\n",
              "    .dataframe tbody tr th {\n",
              "        vertical-align: top;\n",
              "    }\n",
              "\n",
              "    .dataframe thead th {\n",
              "        text-align: right;\n",
              "    }\n",
              "</style>\n",
              "<table border=\"1\" class=\"dataframe\">\n",
              "  <thead>\n",
              "    <tr style=\"text-align: right;\">\n",
              "      <th></th>\n",
              "      <th>Coefficient</th>\n",
              "    </tr>\n",
              "  </thead>\n",
              "  <tbody>\n",
              "    <tr>\n",
              "      <th>Semifurnished</th>\n",
              "      <td>-48573.897264</td>\n",
              "    </tr>\n",
              "    <tr>\n",
              "      <th>Unfurnished</th>\n",
              "      <td>-51481.872693</td>\n",
              "    </tr>\n",
              "  </tbody>\n",
              "</table>\n",
              "</div>"
            ],
            "text/plain": [
              "                Coefficient\n",
              "Semifurnished -48573.897264\n",
              "Unfurnished   -51481.872693"
            ]
          },
          "metadata": {},
          "execution_count": 23
        }
      ]
    },
    {
      "cell_type": "markdown",
      "metadata": {
        "id": "1nqbmHcJJOI1"
      },
      "source": [
        "### EVALUATION"
      ]
    },
    {
      "cell_type": "code",
      "metadata": {
        "id": "FQVAUB8fY9mg"
      },
      "source": [
        "pred = lin_reg.predict(X_test)"
      ],
      "execution_count": 24,
      "outputs": []
    },
    {
      "cell_type": "code",
      "metadata": {
        "id": "bcUAvkZcZAhm"
      },
      "source": [
        "dataprediction = pd.DataFrame({'True Values': y_test, 'Predicted Values': pred})\n",
        "dataprediction = pd.DataFrame.from_dict(dataprediction)"
      ],
      "execution_count": 25,
      "outputs": []
    },
    {
      "cell_type": "code",
      "metadata": {
        "colab": {
          "base_uri": "https://localhost:8080/",
          "height": 304
        },
        "id": "AocrHX7fZlOh",
        "outputId": "91dd6ca4-4e66-44c8-9f8e-074a0996daad"
      },
      "source": [
        "plt.scatter(y_test, pred)\n",
        "plt.xlabel('True Values', fontsize = 18)  \n",
        "plt.ylabel('Predicted Values', fontsize = 18)  "
      ],
      "execution_count": 26,
      "outputs": [
        {
          "output_type": "execute_result",
          "data": {
            "text/plain": [
              "Text(0, 0.5, 'Predicted Values')"
            ]
          },
          "metadata": {},
          "execution_count": 26
        },
        {
          "output_type": "display_data",
          "data": {
            "image/png": "[encoded data removed]",
            "text/plain": [
              "<Figure size 432x288 with 1 Axes>"
            ]
          },
          "metadata": {
            "needs_background": "light"
          }
        }
      ]
    },
    {
      "cell_type": "code",
      "metadata": {
        "colab": {
          "base_uri": "https://localhost:8080/",
          "height": 387
        },
        "id": "vFclJx3WfZo-",
        "outputId": "4e39e6e1-cec8-4a62-8a4b-6800bb70532f"
      },
      "source": [
        "sns.distplot((y_test-pred),bins=50)\n",
        "plt.suptitle('Error Terms', fontsize = 20)               \n",
        "plt.xlabel('Errors', fontsize = 18)  "
      ],
      "execution_count": 27,
      "outputs": [
        {
          "output_type": "stream",
          "name": "stderr",
          "text": [
            "/usr/local/lib/python3.7/dist-packages/seaborn/distributions.py:2619: FutureWarning: `distplot` is a deprecated function and will be removed in a future version. Please adapt your code to use either `displot` (a figure-level function with similar flexibility) or `histplot` (an axes-level function for histograms).\n",
            "  warnings.warn(msg, FutureWarning)\n"
          ]
        },
        {
          "output_type": "execute_result",
          "data": {
            "text/plain": [
              "Text(0.5, 0, 'Errors')"
            ]
          },
          "metadata": {},
          "execution_count": 27
        },
        {
          "output_type": "display_data",
          "data": {
            "image/png": "[encoded data removed]",
            "text/plain": [
              "<Figure size 432x288 with 1 Axes>"
            ]
          },
          "metadata": {
            "needs_background": "light"
          }
        }
      ]
    },
    {
      "cell_type": "code",
      "metadata": {
        "colab": {
          "base_uri": "https://localhost:8080/"
        },
        "id": "xgHB1wpy_Ks8",
        "outputId": "49228854-58a0-4b1c-bc42-bd2332e11577"
      },
      "source": [
        "Input = sm.add_constant(X)\n",
        "SimpleModel = sm.OLS(y,Input, missing='drop')\n",
        "results = SimpleModel.fit()\n",
        "print(results.summary())"
      ],
      "execution_count": 28,
      "outputs": [
        {
          "output_type": "stream",
          "name": "stdout",
          "text": [
            "                            OLS Regression Results                            \n",
            "==============================================================================\n",
            "Dep. Variable:                   rent   R-squared:                       0.001\n",
            "Model:                            OLS   Adj. R-squared:                  0.000\n",
            "Method:                 Least Squares   F-statistic:                     3.047\n",
            "Date:                Tue, 02 Nov 2021   Prob (F-statistic):             0.0476\n",
            "Time:                        03:15:02   Log-Likelihood:            -1.6764e+05\n",
            "No. Observations:               10884   AIC:                         3.353e+05\n",
            "Df Residuals:                   10881   BIC:                         3.353e+05\n",
            "Df Model:                           2                                         \n",
            "Covariance Type:            nonrobust                                         \n",
            "=================================================================================\n",
            "                    coef    std err          t      P>|t|      [0.025      0.975]\n",
            "---------------------------------------------------------------------------------\n",
            "const          9.004e+04   2.74e+04      3.283      0.001    3.63e+04    1.44e+05\n",
            "Semifurnished -7.184e+04   3.29e+04     -2.186      0.029   -1.36e+05   -7407.730\n",
            "Unfurnished   -7.623e+04   3.23e+04     -2.357      0.018    -1.4e+05   -1.28e+04\n",
            "==============================================================================\n",
            "Omnibus:                    43865.045   Durbin-Watson:                   2.000\n",
            "Prob(Omnibus):                  0.000   Jarque-Bera (JB):      53583183896.910\n",
            "Skew:                         104.232   Prob(JB):                         0.00\n",
            "Kurtosis:                   10870.902   Cond. No.                         5.12\n",
            "==============================================================================\n",
            "\n",
            "Warnings:\n",
            "[1] Standard Errors assume that the covariance matrix of the errors is correctly specified.\n"
          ]
        }
      ]
    },
    {
      "cell_type": "code",
      "metadata": {
        "colab": {
          "base_uri": "https://localhost:8080/"
        },
        "id": "BYoHae_qOj4l",
        "outputId": "1a77fc4f-eac7-4751-a306-e6386998d909"
      },
      "source": [
        "#Uji Kelayakan Model\n",
        "\n",
        "f_value = results.fvalue\n",
        "print(\"f-test score : \", f_value)\n",
        "\n",
        "p_value = results.f_pvalue\n",
        "print(\"P-value : \", p_value)\n",
        "\n",
        "if p_value < 0.05:\n",
        "  print(\"Tolak H0\")\n",
        "else:\n",
        "  print(\"Terima H0\")"
      ],
      "execution_count": 29,
      "outputs": [
        {
          "output_type": "stream",
          "name": "stdout",
          "text": [
            "f-test score :  3.046746150195135\n",
            "P-value :  0.0475538102803648\n",
            "Tolak H0\n"
          ]
        }
      ]
    },
    {
      "cell_type": "code",
      "metadata": {
        "colab": {
          "base_uri": "https://localhost:8080/"
        },
        "id": "1OQYHT85bCjP",
        "outputId": "de303a6d-4bb3-4406-9122-cec456383079"
      },
      "source": [
        "#Uji Residual\n",
        "\n",
        "from scipy.stats import shapiro\n",
        "df_train[\"residual\"] = y_test - pred\n",
        "stat_e, pval_e = shapiro(df_train[\"residual\"])\n",
        "\n",
        "print(f\"p value uji normalitas data Residual = {pval_e}\")"
      ],
      "execution_count": 30,
      "outputs": [
        {
          "output_type": "stream",
          "name": "stdout",
          "text": [
            "p value uji normalitas data Residual = 1.0\n"
          ]
        },
        {
          "output_type": "stream",
          "name": "stderr",
          "text": [
            "/usr/local/lib/python3.7/dist-packages/scipy/stats/morestats.py:1676: UserWarning: p-value may not be accurate for N > 5000.\n",
            "  warnings.warn(\"p-value may not be accurate for N > 5000.\")\n"
          ]
        }
      ]
    },
    {
      "cell_type": "code",
      "metadata": {
        "colab": {
          "base_uri": "https://localhost:8080/"
        },
        "id": "WpYthq87cL7F",
        "outputId": "99cea3a0-b34c-4ea7-80f1-a1dd6ef58cb2"
      },
      "source": [
        "corr = df_train_true[[\"Semifurnished\", \"Unfurnished\", \"rent\"]].corr()\n",
        "print('Pearson correlation coefficient matrix of each variables:\\n', corr)"
      ],
      "execution_count": 31,
      "outputs": [
        {
          "output_type": "stream",
          "name": "stdout",
          "text": [
            "Pearson correlation coefficient matrix of each variables:\n",
            "                Semifurnished  Unfurnished      rent\n",
            "Semifurnished       1.000000    -0.707419 -0.007024\n",
            "Unfurnished        -0.707419     1.000000 -0.010998\n",
            "rent               -0.007024    -0.010998  1.000000\n"
          ]
        }
      ]
    },
    {
      "cell_type": "code",
      "metadata": {
        "colab": {
          "base_uri": "https://localhost:8080/"
        },
        "id": "idR_8UPadF7T",
        "outputId": "4e9c086b-2d95-49b7-b071-90cd04559642"
      },
      "source": [
        "from statsmodels.stats.stattools import durbin_watson\n",
        "\n",
        "durbinWatson = durbin_watson(df_train['residual'])\n",
        "\n",
        "print('Durbin-Watson:', durbinWatson)\n",
        "if durbinWatson < 1.5:\n",
        "    print('Signs of positive autocorrelation', '\\n')\n",
        "    print('Assumption not satisfied')\n",
        "elif durbinWatson > 2.5:\n",
        "    print('Signs of negative autocorrelation', '\\n')\n",
        "    print('Assumption not satisfied')\n",
        "else:\n",
        "    print('Little to no autocorrelation', '\\n')\n",
        "    print('Assumption satisfied')"
      ],
      "execution_count": 32,
      "outputs": [
        {
          "output_type": "stream",
          "name": "stdout",
          "text": [
            "Durbin-Watson: nan\n",
            "Little to no autocorrelation \n",
            "\n",
            "Assumption satisfied\n"
          ]
        }
      ]
    },
    {
      "cell_type": "code",
      "metadata": {
        "colab": {
          "base_uri": "https://localhost:8080/",
          "height": 349
        },
        "id": "ltpJCxi2dbXn",
        "outputId": "b2459216-6b20-45c9-b385-b1bfe42ecc3f"
      },
      "source": [
        "asm_homosk = plt.scatter(df_train[\"rent\"], df_train[\"residual\"])\n",
        "plt.xlabel('predicted')\n",
        "plt.ylabel('residuals')\n",
        "asm_homosk = sns.regplot([2,5],[0,0],color='red')\n",
        "asm_homosk = plt.title('Residuals vs Prediction')"
      ],
      "execution_count": 33,
      "outputs": [
        {
          "output_type": "stream",
          "name": "stderr",
          "text": [
            "/usr/local/lib/python3.7/dist-packages/seaborn/_decorators.py:43: FutureWarning: Pass the following variables as keyword args: x, y. From version 0.12, the only valid positional argument will be `data`, and passing other arguments without an explicit keyword will result in an error or misinterpretation.\n",
            "  FutureWarning\n"
          ]
        },
        {
          "output_type": "display_data",
          "data": {
            "image/png": "[encoded data removed]",
            "text/plain": [
              "<Figure size 432x288 with 1 Axes>"
            ]
          },
          "metadata": {
            "needs_background": "light"
          }
        }
      ]
    },
    {
      "cell_type": "code",
      "metadata": {
        "colab": {
          "base_uri": "https://localhost:8080/"
        },
        "id": "qP-r33gIgIST",
        "outputId": "40eb3428-832c-4aec-8b7f-07e3bff90d2e"
      },
      "source": [
        "olsmod = sm.OLS(df_train_true['rent'], X).fit()\n",
        "print('R2 score:', olsmod.rsquared)"
      ],
      "execution_count": 34,
      "outputs": [
        {
          "output_type": "stream",
          "name": "stdout",
          "text": [
            "R2 score: 0.00015207886197421416\n"
          ]
        }
      ]
    },
    {
      "cell_type": "markdown",
      "metadata": {
        "id": "P_POnKZiJQ3S"
      },
      "source": [
        "### LOAD AND PREDICT NEW DATA"
      ]
    },
    {
      "cell_type": "code",
      "metadata": {
        "colab": {
          "base_uri": "https://localhost:8080/",
          "height": 204
        },
        "id": "Qy8CL7hfHWma",
        "outputId": "5eacc37b-268c-4284-bfe9-243108ce63f8"
      },
      "source": [
        "df_test_true = df_test[[\"furnishing\", \"rent\"]]\n",
        "df_test_true.head()"
      ],
      "execution_count": 35,
      "outputs": [
        {
          "output_type": "execute_result",
          "data": {
            "text/html": [
              "<div>\n",
              "<style scoped>\n",
              "    .dataframe tbody tr th:only-of-type {\n",
              "        vertical-align: middle;\n",
              "    }\n",
              "\n",
              "    .dataframe tbody tr th {\n",
              "        vertical-align: top;\n",
              "    }\n",
              "\n",
              "    .dataframe thead th {\n",
              "        text-align: right;\n",
              "    }\n",
              "</style>\n",
              "<table border=\"1\" class=\"dataframe\">\n",
              "  <thead>\n",
              "    <tr style=\"text-align: right;\">\n",
              "      <th></th>\n",
              "      <th>furnishing</th>\n",
              "      <th>rent</th>\n",
              "    </tr>\n",
              "  </thead>\n",
              "  <tbody>\n",
              "    <tr>\n",
              "      <th>0</th>\n",
              "      <td>Semifurnished</td>\n",
              "      <td>18500.0</td>\n",
              "    </tr>\n",
              "    <tr>\n",
              "      <th>1</th>\n",
              "      <td>Semifurnished</td>\n",
              "      <td>21000.0</td>\n",
              "    </tr>\n",
              "    <tr>\n",
              "      <th>2</th>\n",
              "      <td>Semifurnished</td>\n",
              "      <td>12000.0</td>\n",
              "    </tr>\n",
              "    <tr>\n",
              "      <th>3</th>\n",
              "      <td>Furnished</td>\n",
              "      <td>24000.0</td>\n",
              "    </tr>\n",
              "    <tr>\n",
              "      <th>4</th>\n",
              "      <td>Semifurnished</td>\n",
              "      <td>13500.0</td>\n",
              "    </tr>\n",
              "  </tbody>\n",
              "</table>\n",
              "</div>"
            ],
            "text/plain": [
              "      furnishing     rent\n",
              "0  Semifurnished  18500.0\n",
              "1  Semifurnished  21000.0\n",
              "2  Semifurnished  12000.0\n",
              "3      Furnished  24000.0\n",
              "4  Semifurnished  13500.0"
            ]
          },
          "metadata": {},
          "execution_count": 35
        }
      ]
    },
    {
      "cell_type": "code",
      "metadata": {
        "colab": {
          "base_uri": "https://localhost:8080/"
        },
        "id": "AO6je6M3JBoM",
        "outputId": "d973ed8f-edb5-400c-a388-ec5f8d7b0cf4"
      },
      "source": [
        "df_test_true['furnishing'] = df_test_true['furnishing'].replace(['Unfurnishe'],'Unfurnished')"
      ],
      "execution_count": 36,
      "outputs": [
        {
          "output_type": "stream",
          "name": "stderr",
          "text": [
            "/usr/local/lib/python3.7/dist-packages/ipykernel_launcher.py:1: SettingWithCopyWarning: \n",
            "A value is trying to be set on a copy of a slice from a DataFrame.\n",
            "Try using .loc[row_indexer,col_indexer] = value instead\n",
            "\n",
            "See the caveats in the documentation: https://pandas.pydata.org/pandas-docs/stable/user_guide/indexing.html#returning-a-view-versus-a-copy\n",
            "  \"\"\"Entry point for launching an IPython kernel.\n"
          ]
        }
      ]
    },
    {
      "cell_type": "code",
      "metadata": {
        "colab": {
          "base_uri": "https://localhost:8080/",
          "height": 204
        },
        "id": "V1-P10M4ax2I",
        "outputId": "2e494b8b-49d4-4c20-aab3-c474c8048bf4"
      },
      "source": [
        "statusnew = pd.get_dummies(df_test_true['furnishing'], drop_first=True)\n",
        "statusnew.head()"
      ],
      "execution_count": 37,
      "outputs": [
        {
          "output_type": "execute_result",
          "data": {
            "text/html": [
              "<div>\n",
              "<style scoped>\n",
              "    .dataframe tbody tr th:only-of-type {\n",
              "        vertical-align: middle;\n",
              "    }\n",
              "\n",
              "    .dataframe tbody tr th {\n",
              "        vertical-align: top;\n",
              "    }\n",
              "\n",
              "    .dataframe thead th {\n",
              "        text-align: right;\n",
              "    }\n",
              "</style>\n",
              "<table border=\"1\" class=\"dataframe\">\n",
              "  <thead>\n",
              "    <tr style=\"text-align: right;\">\n",
              "      <th></th>\n",
              "      <th>Semifurnished</th>\n",
              "      <th>Unfurnished</th>\n",
              "    </tr>\n",
              "  </thead>\n",
              "  <tbody>\n",
              "    <tr>\n",
              "      <th>0</th>\n",
              "      <td>1</td>\n",
              "      <td>0</td>\n",
              "    </tr>\n",
              "    <tr>\n",
              "      <th>1</th>\n",
              "      <td>1</td>\n",
              "      <td>0</td>\n",
              "    </tr>\n",
              "    <tr>\n",
              "      <th>2</th>\n",
              "      <td>1</td>\n",
              "      <td>0</td>\n",
              "    </tr>\n",
              "    <tr>\n",
              "      <th>3</th>\n",
              "      <td>0</td>\n",
              "      <td>0</td>\n",
              "    </tr>\n",
              "    <tr>\n",
              "      <th>4</th>\n",
              "      <td>1</td>\n",
              "      <td>0</td>\n",
              "    </tr>\n",
              "  </tbody>\n",
              "</table>\n",
              "</div>"
            ],
            "text/plain": [
              "   Semifurnished  Unfurnished\n",
              "0              1            0\n",
              "1              1            0\n",
              "2              1            0\n",
              "3              0            0\n",
              "4              1            0"
            ]
          },
          "metadata": {},
          "execution_count": 37
        }
      ]
    },
    {
      "cell_type": "code",
      "metadata": {
        "id": "Ed9bfuwzJLz6"
      },
      "source": [
        "df_test_true = pd.concat([df_test_true, statusnew], axis = 1)\n",
        "df_test_true.drop(['furnishing'], axis = 1, inplace = True)"
      ],
      "execution_count": 38,
      "outputs": []
    },
    {
      "cell_type": "code",
      "metadata": {
        "colab": {
          "base_uri": "https://localhost:8080/"
        },
        "id": "4iajep34ZTS7",
        "outputId": "1b2271c4-5a7f-4b64-aad2-8b87144dd3d6"
      },
      "source": [
        "df_test_true.info()"
      ],
      "execution_count": 39,
      "outputs": [
        {
          "output_type": "stream",
          "name": "stdout",
          "text": [
            "<class 'pandas.core.frame.DataFrame'>\n",
            "RangeIndex: 5361 entries, 0 to 5360\n",
            "Data columns (total 3 columns):\n",
            " #   Column         Non-Null Count  Dtype  \n",
            "---  ------         --------------  -----  \n",
            " 0   rent           5361 non-null   float64\n",
            " 1   Semifurnished  5361 non-null   uint8  \n",
            " 2   Unfurnished    5361 non-null   uint8  \n",
            "dtypes: float64(1), uint8(2)\n",
            "memory usage: 52.5 KB\n"
          ]
        }
      ]
    },
    {
      "cell_type": "code",
      "metadata": {
        "colab": {
          "base_uri": "https://localhost:8080/"
        },
        "id": "z0d3jjunJnzN",
        "outputId": "dd40dade-f61d-4bf1-d211-fca98fd184ac"
      },
      "source": [
        "#Split Test Train\n",
        "\n",
        "X = df_test_true.drop('rent', axis=1)\n",
        "y = df_test_true['rent']\n",
        "\n",
        "X_train, X_test, y_train, y_test = train_test_split(X, y, test_size=0.3, random_state=42)\n",
        "\n",
        "print(\"X Train : \", len(X_train))\n",
        "print(\"y Train : \", len(y_train))\n",
        "print(\"X Test : \", len(X_test))\n",
        "print(\"t Test : \", len(y_test))"
      ],
      "execution_count": 40,
      "outputs": [
        {
          "output_type": "stream",
          "name": "stdout",
          "text": [
            "X Train :  3752\n",
            "y Train :  3752\n",
            "X Test :  1609\n",
            "t Test :  1609\n"
          ]
        }
      ]
    },
    {
      "cell_type": "code",
      "metadata": {
        "id": "HH4xHCJFJt5t"
      },
      "source": [
        "from sklearn.preprocessing import StandardScaler\n",
        "from sklearn.pipeline import Pipeline\n",
        "\n",
        "pipeline = Pipeline([\n",
        "    ('std_scalar', StandardScaler())\n",
        "])\n",
        "\n",
        "X_train = pipeline.fit_transform(X_train)\n",
        "X_test = pipeline.transform(X_test)"
      ],
      "execution_count": 41,
      "outputs": []
    },
    {
      "cell_type": "code",
      "metadata": {
        "colab": {
          "base_uri": "https://localhost:8080/"
        },
        "id": "WEvalrz1JzAq",
        "outputId": "6081b100-7ad4-4745-e4c5-3a17be4ac03d"
      },
      "source": [
        "lin_reg_new = LinearRegression(normalize=True)\n",
        "lin_reg_new.fit(X_train,y_train)"
      ],
      "execution_count": 42,
      "outputs": [
        {
          "output_type": "execute_result",
          "data": {
            "text/plain": [
              "LinearRegression(copy_X=True, fit_intercept=True, n_jobs=None, normalize=True)"
            ]
          },
          "metadata": {},
          "execution_count": 42
        }
      ]
    },
    {
      "cell_type": "code",
      "metadata": {
        "colab": {
          "base_uri": "https://localhost:8080/"
        },
        "id": "FPaybiXBJ4g0",
        "outputId": "641973a6-b56f-4825-91ac-04a79001a57d"
      },
      "source": [
        "print(lin_reg_new.intercept_)"
      ],
      "execution_count": 43,
      "outputs": [
        {
          "output_type": "stream",
          "name": "stdout",
          "text": [
            "17005.34230909115\n"
          ]
        }
      ]
    },
    {
      "cell_type": "code",
      "metadata": {
        "colab": {
          "base_uri": "https://localhost:8080/"
        },
        "id": "BQ6BMP63bJGX",
        "outputId": "ae70ad99-9ae6-426d-cabb-769c77c7d968"
      },
      "source": [
        "olsmod = sm.OLS(df_test_true['rent'], X).fit()\n",
        "print('R2 score:', olsmod.rsquared)"
      ],
      "execution_count": 44,
      "outputs": [
        {
          "output_type": "stream",
          "name": "stdout",
          "text": [
            "R2 score: 0.555456075570916\n"
          ]
        }
      ]
    },
    {
      "cell_type": "code",
      "metadata": {
        "colab": {
          "base_uri": "https://localhost:8080/",
          "height": 111
        },
        "id": "2kPfeldQJ5G8",
        "outputId": "d13f2152-f8a8-4fe6-8920-8b5219f585e1"
      },
      "source": [
        "coeff_df_new = pd.DataFrame(lin_reg_new.coef_, X.columns, columns=['Coefficient'])\n",
        "coeff_df_new"
      ],
      "execution_count": 45,
      "outputs": [
        {
          "output_type": "execute_result",
          "data": {
            "text/html": [
              "<div>\n",
              "<style scoped>\n",
              "    .dataframe tbody tr th:only-of-type {\n",
              "        vertical-align: middle;\n",
              "    }\n",
              "\n",
              "    .dataframe tbody tr th {\n",
              "        vertical-align: top;\n",
              "    }\n",
              "\n",
              "    .dataframe thead th {\n",
              "        text-align: right;\n",
              "    }\n",
              "</style>\n",
              "<table border=\"1\" class=\"dataframe\">\n",
              "  <thead>\n",
              "    <tr style=\"text-align: right;\">\n",
              "      <th></th>\n",
              "      <th>Coefficient</th>\n",
              "    </tr>\n",
              "  </thead>\n",
              "  <tbody>\n",
              "    <tr>\n",
              "      <th>Semifurnished</th>\n",
              "      <td>-2184.289773</td>\n",
              "    </tr>\n",
              "    <tr>\n",
              "      <th>Unfurnished</th>\n",
              "      <td>-4206.179830</td>\n",
              "    </tr>\n",
              "  </tbody>\n",
              "</table>\n",
              "</div>"
            ],
            "text/plain": [
              "               Coefficient\n",
              "Semifurnished -2184.289773\n",
              "Unfurnished   -4206.179830"
            ]
          },
          "metadata": {},
          "execution_count": 45
        }
      ]
    },
    {
      "cell_type": "markdown",
      "metadata": {
        "id": "oAAedPRXDARJ"
      },
      "source": [
        "### KESIMPULAN/SARAN"
      ]
    },
    {
      "cell_type": "markdown",
      "metadata": {
        "id": "7nmRatKEiILy"
      },
      "source": [
        "![image.png](data:image/png;base64,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)\n",
        "\n",
        "Terjadi penurunan harga sewa yang signifikan terhadap rumah dengan furnitur yang kurang lengkap dan tidak ada furnitur sama sekali, sehingga akan lebih baik jika rumah yang dijual memiliki furnitur yang lengkap untuk mendapatkan harga sewa yang bisa memberikan keuntungan lebih besar.\n",
        "\n",
        "Model ini hanya memprediksikan 55% dari faktor-faktor yang mempengaruhi harga sewa rumah sehingga dibutuhkan evaluasi lebih lanjut untuk mendapatkan hasil yang lebih baik"
      ]
    }
  ]
}